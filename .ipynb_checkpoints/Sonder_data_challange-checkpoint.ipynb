{
 "cells": [
  {
   "cell_type": "code",
   "execution_count": 1,
   "metadata": {},
   "outputs": [],
   "source": [
    "import numpy as np\n",
    "import matplotlib.pyplot as plt\n",
    "import pandas as pd\n",
    "\n",
    "from sklearn import preprocessing\n",
    "\n",
    "import zipfile\n",
    "import datetime\n",
    "from pandas.tseries.holiday import USFederalHolidayCalendar\n",
    "from sklearn.preprocessing import scale"
   ]
  },
  {
   "cell_type": "code",
   "execution_count": 2,
   "metadata": {},
   "outputs": [],
   "source": [
    "dataset= pd.read_csv(\"chicago_crimes_data_2010_2017.csv\", parse_dates = ['Date'])"
   ]
  },
  {
   "cell_type": "markdown",
   "metadata": {},
   "source": [
    "## Feature Engineering"
   ]
  },
  {
   "cell_type": "code",
   "execution_count": 3,
   "metadata": {},
   "outputs": [],
   "source": [
    "dataset.dropna(how='any') # Drop NA from the data sets\n",
    "a = dataset.isnull().sum(axis = 1)\n",
    "dataset = dataset[a==0]"
   ]
  },
  {
   "cell_type": "code",
   "execution_count": 22,
   "metadata": {},
   "outputs": [],
   "source": [
    "import warnings\n",
    "warnings.filterwarnings('ignore')\n",
    "\n",
    "# Build a data frame for the regression \n",
    "dataset_haha = pd.DataFrame() \n",
    "dataset_haha[\"category\"] = dataset[\"Primary Type\"]\n",
    "\n",
    "dataset_haha[\"hour\"] = dataset[\"Date\"].map(lambda x: x.hour)\n",
    "dataset_haha[\"day\"] = dataset[\"Date\"].map(lambda x: x.day)\n",
    "dataset_haha[\"month\"] = dataset[\"Date\"].map(lambda x: x.month)\n",
    "dataset_haha[\"year\"] = pd.DataFrame(scale(dataset[\"Date\"].map(lambda x: x.year)))\n",
    "dataset_haha[\"dayofweek\"] = dataset[\"Date\"].map(lambda x: x.dayofweek)"
   ]
  },
  {
   "cell_type": "code",
   "execution_count": 5,
   "metadata": {},
   "outputs": [],
   "source": [
    "days_off = USFederalHolidayCalendar().holidays(start='2010-01-01', end='2017-12-31').to_pydatetime()\n",
    "dataset_haha[\"holiday\"] = dataset[\"Date\"].map(lambda x: datetime.datetime(x.year,x.month,x.day) in days_off)"
   ]
  },
  {
   "cell_type": "code",
   "execution_count": 6,
   "metadata": {},
   "outputs": [],
   "source": [
    "dataset_haha[\"lon\"] = pd.DataFrame(scale(dataset[\"Longitude\"]))\n",
    "dataset_haha[\"lat\"] = pd.DataFrame(scale(dataset[\"Latitude\"]))\n",
    "dataset_haha[\"District\"] = dataset[\"District\"]\n",
    "dataset_haha[\"Ward\"] = dataset[\"Ward\"]\n",
    "dataset_haha[\"Community\"] = dataset[\"Community Area\"]"
   ]
  },
  {
   "cell_type": "code",
   "execution_count": 23,
   "metadata": {},
   "outputs": [],
   "source": [
    "dataset_haha[\"Block\"] = dataset[\"Block\"].map(lambda x: x.split(\" \")[-1].upper())\n",
    "blocktype = dataset_haha.Block.value_counts().index\n",
    "dataset_haha[\"Block\"][~dataset_haha[\"Block\"].isin(blocktype[0:8])] = 'ELSE'\n",
    "\n",
    "dataset_haha[\"Location\"] = dataset[\"Location Description\"]\n",
    "locationtype = dataset[\"Location Description\"].value_counts().index\n",
    "dataset_haha[\"Location\"][~dataset_haha[\"Location\"].isin(locationtype[0:14])] = 'OTHER'\n",
    "\n",
    "dataset_haha['train_or_test'] = dataset['train_or_test']"
   ]
  },
  {
   "cell_type": "code",
   "execution_count": 8,
   "metadata": {},
   "outputs": [
    {
     "data": {
      "text/html": [
       "<div>\n",
       "<style scoped>\n",
       "    .dataframe tbody tr th:only-of-type {\n",
       "        vertical-align: middle;\n",
       "    }\n",
       "\n",
       "    .dataframe tbody tr th {\n",
       "        vertical-align: top;\n",
       "    }\n",
       "\n",
       "    .dataframe thead th {\n",
       "        text-align: right;\n",
       "    }\n",
       "</style>\n",
       "<table border=\"1\" class=\"dataframe\">\n",
       "  <thead>\n",
       "    <tr style=\"text-align: right;\">\n",
       "      <th></th>\n",
       "      <th>category</th>\n",
       "      <th>hour</th>\n",
       "      <th>day</th>\n",
       "      <th>month</th>\n",
       "      <th>year</th>\n",
       "      <th>dayofweek</th>\n",
       "      <th>holiday</th>\n",
       "      <th>lon</th>\n",
       "      <th>lat</th>\n",
       "      <th>District</th>\n",
       "      <th>Ward</th>\n",
       "      <th>Community</th>\n",
       "      <th>Block</th>\n",
       "      <th>Location</th>\n",
       "      <th>train_or_test</th>\n",
       "    </tr>\n",
       "  </thead>\n",
       "  <tbody>\n",
       "    <tr>\n",
       "      <th>0</th>\n",
       "      <td>CRIMINAL DAMAGE</td>\n",
       "      <td>11</td>\n",
       "      <td>22</td>\n",
       "      <td>11</td>\n",
       "      <td>-0.510858</td>\n",
       "      <td>3</td>\n",
       "      <td>True</td>\n",
       "      <td>-1.881736</td>\n",
       "      <td>0.834478</td>\n",
       "      <td>25.0</td>\n",
       "      <td>36.0</td>\n",
       "      <td>18.0</td>\n",
       "      <td>AVE</td>\n",
       "      <td>PARKING LOT/GARAGE(NON.RESID.)</td>\n",
       "      <td>train</td>\n",
       "    </tr>\n",
       "    <tr>\n",
       "      <th>1</th>\n",
       "      <td>WEAPONS VIOLATION</td>\n",
       "      <td>21</td>\n",
       "      <td>28</td>\n",
       "      <td>12</td>\n",
       "      <td>-0.946389</td>\n",
       "      <td>2</td>\n",
       "      <td>False</td>\n",
       "      <td>0.637693</td>\n",
       "      <td>-1.648437</td>\n",
       "      <td>5.0</td>\n",
       "      <td>34.0</td>\n",
       "      <td>53.0</td>\n",
       "      <td>ST</td>\n",
       "      <td>SIDEWALK</td>\n",
       "      <td>train</td>\n",
       "    </tr>\n",
       "    <tr>\n",
       "      <th>2</th>\n",
       "      <td>BATTERY</td>\n",
       "      <td>21</td>\n",
       "      <td>3</td>\n",
       "      <td>2</td>\n",
       "      <td>-1.381921</td>\n",
       "      <td>2</td>\n",
       "      <td>False</td>\n",
       "      <td>-0.281036</td>\n",
       "      <td>0.070941</td>\n",
       "      <td>10.0</td>\n",
       "      <td>28.0</td>\n",
       "      <td>30.0</td>\n",
       "      <td>ST</td>\n",
       "      <td>RESIDENCE</td>\n",
       "      <td>train</td>\n",
       "    </tr>\n",
       "    <tr>\n",
       "      <th>3</th>\n",
       "      <td>ROBBERY</td>\n",
       "      <td>13</td>\n",
       "      <td>21</td>\n",
       "      <td>6</td>\n",
       "      <td>-0.946389</td>\n",
       "      <td>1</td>\n",
       "      <td>False</td>\n",
       "      <td>0.089853</td>\n",
       "      <td>-1.523405</td>\n",
       "      <td>22.0</td>\n",
       "      <td>19.0</td>\n",
       "      <td>75.0</td>\n",
       "      <td>AVE</td>\n",
       "      <td>OTHER</td>\n",
       "      <td>train</td>\n",
       "    </tr>\n",
       "    <tr>\n",
       "      <th>4</th>\n",
       "      <td>ROBBERY</td>\n",
       "      <td>11</td>\n",
       "      <td>30</td>\n",
       "      <td>11</td>\n",
       "      <td>1.666799</td>\n",
       "      <td>3</td>\n",
       "      <td>False</td>\n",
       "      <td>-0.478139</td>\n",
       "      <td>0.925138</td>\n",
       "      <td>14.0</td>\n",
       "      <td>35.0</td>\n",
       "      <td>21.0</td>\n",
       "      <td>AVE</td>\n",
       "      <td>STREET</td>\n",
       "      <td>test</td>\n",
       "    </tr>\n",
       "  </tbody>\n",
       "</table>\n",
       "</div>"
      ],
      "text/plain": [
       "            category  hour  day  month      year  dayofweek  holiday  \\\n",
       "0    CRIMINAL DAMAGE    11   22     11 -0.510858          3     True   \n",
       "1  WEAPONS VIOLATION    21   28     12 -0.946389          2    False   \n",
       "2            BATTERY    21    3      2 -1.381921          2    False   \n",
       "3            ROBBERY    13   21      6 -0.946389          1    False   \n",
       "4            ROBBERY    11   30     11  1.666799          3    False   \n",
       "\n",
       "        lon       lat  District  Ward  Community Block  \\\n",
       "0 -1.881736  0.834478      25.0  36.0       18.0   AVE   \n",
       "1  0.637693 -1.648437       5.0  34.0       53.0    ST   \n",
       "2 -0.281036  0.070941      10.0  28.0       30.0    ST   \n",
       "3  0.089853 -1.523405      22.0  19.0       75.0   AVE   \n",
       "4 -0.478139  0.925138      14.0  35.0       21.0   AVE   \n",
       "\n",
       "                         Location train_or_test  \n",
       "0  PARKING LOT/GARAGE(NON.RESID.)         train  \n",
       "1                        SIDEWALK         train  \n",
       "2                       RESIDENCE         train  \n",
       "3                           OTHER         train  \n",
       "4                          STREET          test  "
      ]
     },
     "execution_count": 8,
     "metadata": {},
     "output_type": "execute_result"
    }
   ],
   "source": [
    "dataset_haha.head(n=5)"
   ]
  },
  {
   "cell_type": "markdown",
   "metadata": {},
   "source": [
    "Change all the features to dummy variable"
   ]
  },
  {
   "cell_type": "code",
   "execution_count": 9,
   "metadata": {},
   "outputs": [],
   "source": [
    "a = dataset_haha.isnull().sum(axis = 1)\n",
    "dataset_haha = dataset_haha[a==0]\n",
    "\n",
    "dayofweek_dm = pd.get_dummies(dataset_haha['dayofweek'], prefix='dayofweek')    \n",
    "dataset_haha = pd.concat([dataset_haha,dayofweek_dm], axis=1)\n",
    "dataset_haha.drop('dayofweek', axis=1, inplace=True)\n",
    "\n",
    "holiday_dm = pd.get_dummies(dataset_haha['holiday'], prefix='holiday')    \n",
    "dataset_haha = pd.concat([dataset_haha,holiday_dm], axis=1)\n",
    "dataset_haha.drop('holiday', axis=1, inplace=True)\n",
    "\n",
    "\n",
    "District_dm = pd.get_dummies(dataset_haha['District'], prefix='District')    \n",
    "dataset_haha = pd.concat([dataset_haha,District_dm], axis=1)\n",
    "dataset_haha.drop('District', axis=1, inplace=True)\n",
    "\n",
    "Ward_dm = pd.get_dummies(dataset_haha['Ward'], prefix='Ward')    \n",
    "dataset_haha = pd.concat([dataset_haha,Ward_dm], axis=1)\n",
    "dataset_haha.drop('Ward', axis=1, inplace=True)\n",
    "\n",
    "Community_dm = pd.get_dummies(dataset_haha['Community'], prefix='Community')    \n",
    "dataset_haha = pd.concat([dataset_haha,Community_dm], axis=1)\n",
    "dataset_haha.drop('Community', axis=1, inplace=True)\n",
    "\n",
    "\n",
    "Block_dm = pd.get_dummies(dataset_haha['Block'], prefix='Block')    \n",
    "dataset_haha = pd.concat([dataset_haha,Block_dm], axis=1)\n",
    "dataset_haha.drop('Block', axis=1, inplace=True)\n",
    "\n",
    "Location_dm = pd.get_dummies(dataset_haha['Location'], prefix='Location')    \n",
    "dataset_haha = pd.concat([dataset_haha,Location_dm], axis=1)\n",
    "dataset_haha.drop('Location', axis=1, inplace=True)"
   ]
  },
  {
   "cell_type": "code",
   "execution_count": 10,
   "metadata": {},
   "outputs": [
    {
     "data": {
      "text/html": [
       "<div>\n",
       "<style scoped>\n",
       "    .dataframe tbody tr th:only-of-type {\n",
       "        vertical-align: middle;\n",
       "    }\n",
       "\n",
       "    .dataframe tbody tr th {\n",
       "        vertical-align: top;\n",
       "    }\n",
       "\n",
       "    .dataframe thead th {\n",
       "        text-align: right;\n",
       "    }\n",
       "</style>\n",
       "<table border=\"1\" class=\"dataframe\">\n",
       "  <thead>\n",
       "    <tr style=\"text-align: right;\">\n",
       "      <th></th>\n",
       "      <th>category</th>\n",
       "      <th>hour</th>\n",
       "      <th>day</th>\n",
       "      <th>month</th>\n",
       "      <th>year</th>\n",
       "      <th>lon</th>\n",
       "      <th>lat</th>\n",
       "      <th>train_or_test</th>\n",
       "      <th>dayofweek_0</th>\n",
       "      <th>dayofweek_1</th>\n",
       "      <th>...</th>\n",
       "      <th>Location_RESIDENCE</th>\n",
       "      <th>Location_RESIDENCE PORCH/HALLWAY</th>\n",
       "      <th>Location_RESIDENCE-GARAGE</th>\n",
       "      <th>Location_RESIDENTIAL YARD (FRONT/BACK)</th>\n",
       "      <th>Location_RESTAURANT</th>\n",
       "      <th>Location_SCHOOL, PUBLIC, BUILDING</th>\n",
       "      <th>Location_SIDEWALK</th>\n",
       "      <th>Location_SMALL RETAIL STORE</th>\n",
       "      <th>Location_STREET</th>\n",
       "      <th>Location_VEHICLE NON-COMMERCIAL</th>\n",
       "    </tr>\n",
       "  </thead>\n",
       "  <tbody>\n",
       "    <tr>\n",
       "      <th>0</th>\n",
       "      <td>CRIMINAL DAMAGE</td>\n",
       "      <td>11</td>\n",
       "      <td>22</td>\n",
       "      <td>11</td>\n",
       "      <td>-0.510858</td>\n",
       "      <td>-1.881736</td>\n",
       "      <td>0.834478</td>\n",
       "      <td>train</td>\n",
       "      <td>0</td>\n",
       "      <td>0</td>\n",
       "      <td>...</td>\n",
       "      <td>0</td>\n",
       "      <td>0</td>\n",
       "      <td>0</td>\n",
       "      <td>0</td>\n",
       "      <td>0</td>\n",
       "      <td>0</td>\n",
       "      <td>0</td>\n",
       "      <td>0</td>\n",
       "      <td>0</td>\n",
       "      <td>0</td>\n",
       "    </tr>\n",
       "    <tr>\n",
       "      <th>1</th>\n",
       "      <td>WEAPONS VIOLATION</td>\n",
       "      <td>21</td>\n",
       "      <td>28</td>\n",
       "      <td>12</td>\n",
       "      <td>-0.946389</td>\n",
       "      <td>0.637693</td>\n",
       "      <td>-1.648437</td>\n",
       "      <td>train</td>\n",
       "      <td>0</td>\n",
       "      <td>0</td>\n",
       "      <td>...</td>\n",
       "      <td>0</td>\n",
       "      <td>0</td>\n",
       "      <td>0</td>\n",
       "      <td>0</td>\n",
       "      <td>0</td>\n",
       "      <td>0</td>\n",
       "      <td>1</td>\n",
       "      <td>0</td>\n",
       "      <td>0</td>\n",
       "      <td>0</td>\n",
       "    </tr>\n",
       "    <tr>\n",
       "      <th>2</th>\n",
       "      <td>BATTERY</td>\n",
       "      <td>21</td>\n",
       "      <td>3</td>\n",
       "      <td>2</td>\n",
       "      <td>-1.381921</td>\n",
       "      <td>-0.281036</td>\n",
       "      <td>0.070941</td>\n",
       "      <td>train</td>\n",
       "      <td>0</td>\n",
       "      <td>0</td>\n",
       "      <td>...</td>\n",
       "      <td>1</td>\n",
       "      <td>0</td>\n",
       "      <td>0</td>\n",
       "      <td>0</td>\n",
       "      <td>0</td>\n",
       "      <td>0</td>\n",
       "      <td>0</td>\n",
       "      <td>0</td>\n",
       "      <td>0</td>\n",
       "      <td>0</td>\n",
       "    </tr>\n",
       "    <tr>\n",
       "      <th>3</th>\n",
       "      <td>ROBBERY</td>\n",
       "      <td>13</td>\n",
       "      <td>21</td>\n",
       "      <td>6</td>\n",
       "      <td>-0.946389</td>\n",
       "      <td>0.089853</td>\n",
       "      <td>-1.523405</td>\n",
       "      <td>train</td>\n",
       "      <td>0</td>\n",
       "      <td>1</td>\n",
       "      <td>...</td>\n",
       "      <td>0</td>\n",
       "      <td>0</td>\n",
       "      <td>0</td>\n",
       "      <td>0</td>\n",
       "      <td>0</td>\n",
       "      <td>0</td>\n",
       "      <td>0</td>\n",
       "      <td>0</td>\n",
       "      <td>0</td>\n",
       "      <td>0</td>\n",
       "    </tr>\n",
       "    <tr>\n",
       "      <th>4</th>\n",
       "      <td>ROBBERY</td>\n",
       "      <td>11</td>\n",
       "      <td>30</td>\n",
       "      <td>11</td>\n",
       "      <td>1.666799</td>\n",
       "      <td>-0.478139</td>\n",
       "      <td>0.925138</td>\n",
       "      <td>test</td>\n",
       "      <td>0</td>\n",
       "      <td>0</td>\n",
       "      <td>...</td>\n",
       "      <td>0</td>\n",
       "      <td>0</td>\n",
       "      <td>0</td>\n",
       "      <td>0</td>\n",
       "      <td>0</td>\n",
       "      <td>0</td>\n",
       "      <td>0</td>\n",
       "      <td>0</td>\n",
       "      <td>1</td>\n",
       "      <td>0</td>\n",
       "    </tr>\n",
       "  </tbody>\n",
       "</table>\n",
       "<p>5 rows × 191 columns</p>\n",
       "</div>"
      ],
      "text/plain": [
       "            category  hour  day  month      year       lon       lat  \\\n",
       "0    CRIMINAL DAMAGE    11   22     11 -0.510858 -1.881736  0.834478   \n",
       "1  WEAPONS VIOLATION    21   28     12 -0.946389  0.637693 -1.648437   \n",
       "2            BATTERY    21    3      2 -1.381921 -0.281036  0.070941   \n",
       "3            ROBBERY    13   21      6 -0.946389  0.089853 -1.523405   \n",
       "4            ROBBERY    11   30     11  1.666799 -0.478139  0.925138   \n",
       "\n",
       "  train_or_test  dayofweek_0  dayofweek_1               ...                 \\\n",
       "0         train            0            0               ...                  \n",
       "1         train            0            0               ...                  \n",
       "2         train            0            0               ...                  \n",
       "3         train            0            1               ...                  \n",
       "4          test            0            0               ...                  \n",
       "\n",
       "   Location_RESIDENCE  Location_RESIDENCE PORCH/HALLWAY  \\\n",
       "0                   0                                 0   \n",
       "1                   0                                 0   \n",
       "2                   1                                 0   \n",
       "3                   0                                 0   \n",
       "4                   0                                 0   \n",
       "\n",
       "   Location_RESIDENCE-GARAGE  Location_RESIDENTIAL YARD (FRONT/BACK)  \\\n",
       "0                          0                                       0   \n",
       "1                          0                                       0   \n",
       "2                          0                                       0   \n",
       "3                          0                                       0   \n",
       "4                          0                                       0   \n",
       "\n",
       "   Location_RESTAURANT  Location_SCHOOL, PUBLIC, BUILDING  Location_SIDEWALK  \\\n",
       "0                    0                                  0                  0   \n",
       "1                    0                                  0                  1   \n",
       "2                    0                                  0                  0   \n",
       "3                    0                                  0                  0   \n",
       "4                    0                                  0                  0   \n",
       "\n",
       "   Location_SMALL RETAIL STORE  Location_STREET  \\\n",
       "0                            0                0   \n",
       "1                            0                0   \n",
       "2                            0                0   \n",
       "3                            0                0   \n",
       "4                            0                1   \n",
       "\n",
       "   Location_VEHICLE NON-COMMERCIAL  \n",
       "0                                0  \n",
       "1                                0  \n",
       "2                                0  \n",
       "3                                0  \n",
       "4                                0  \n",
       "\n",
       "[5 rows x 191 columns]"
      ]
     },
     "execution_count": 10,
     "metadata": {},
     "output_type": "execute_result"
    }
   ],
   "source": [
    "dataset_haha.head(n=5)"
   ]
  },
  {
   "cell_type": "markdown",
   "metadata": {},
   "source": [
    "Separate training data and test data for the future use"
   ]
  },
  {
   "cell_type": "code",
   "execution_count": 11,
   "metadata": {},
   "outputs": [],
   "source": [
    "data_train = dataset_haha[dataset_haha['train_or_test'] == 'train']\n",
    "data_test = dataset_haha[dataset_haha['train_or_test'] == 'test']\n",
    "\n",
    "a = data_train.isnull().sum(axis = 1)\n",
    "data_train = data_train[a==0]\n",
    "\n",
    "a = data_test.isnull().sum(axis = 1)\n",
    "data_test = data_test[a==0]\n",
    "\n",
    "train_Y = data_train['category'] == 'THEFT'\n",
    "train_X = data_train.iloc[:,1:]\n",
    "train_X.drop('train_or_test', axis=1, inplace=True)\n",
    "\n",
    "test_Y = data_test['category'] == 'THEFT'\n",
    "test_X = data_test.iloc[:,1:]\n",
    "test_X.drop('train_or_test', axis=1, inplace=True)"
   ]
  },
  {
   "cell_type": "markdown",
   "metadata": {},
   "source": [
    "Probability for a Naive Model to Guess 'THEFT' (by calculating the theft portion in the test data)"
   ]
  },
  {
   "cell_type": "code",
   "execution_count": 12,
   "metadata": {},
   "outputs": [
    {
     "data": {
      "text/plain": [
       "0.23915479591733718"
      ]
     },
     "execution_count": 12,
     "metadata": {},
     "output_type": "execute_result"
    }
   ],
   "source": [
    "sum(test_Y)/test_Y.shape[0]"
   ]
  },
  {
   "cell_type": "markdown",
   "metadata": {},
   "source": [
    "We will use Random Forest to Classify the data"
   ]
  },
  {
   "cell_type": "code",
   "execution_count": 13,
   "metadata": {},
   "outputs": [
    {
     "data": {
      "text/plain": [
       "RandomForestClassifier(bootstrap=True, class_weight=None, criterion='entropy',\n",
       "            max_depth=None, max_features='auto', max_leaf_nodes=None,\n",
       "            min_impurity_decrease=0.0, min_impurity_split=None,\n",
       "            min_samples_leaf=1, min_samples_split=2,\n",
       "            min_weight_fraction_leaf=0.0, n_estimators=100, n_jobs=1,\n",
       "            oob_score=False, random_state=0, verbose=0, warm_start=False)"
      ]
     },
     "execution_count": 13,
     "metadata": {},
     "output_type": "execute_result"
    }
   ],
   "source": [
    "from sklearn.ensemble import RandomForestClassifier\n",
    "classifier = RandomForestClassifier(n_estimators = 100, criterion = 'entropy', random_state = 0)\n",
    "classifier.fit(train_X,train_Y)"
   ]
  },
  {
   "cell_type": "code",
   "execution_count": 14,
   "metadata": {},
   "outputs": [],
   "source": [
    "target = classifier.predict(test_X)"
   ]
  },
  {
   "cell_type": "code",
   "execution_count": 15,
   "metadata": {},
   "outputs": [
    {
     "data": {
      "text/plain": [
       "0.7804912521579357"
      ]
     },
     "execution_count": 15,
     "metadata": {},
     "output_type": "execute_result"
    }
   ],
   "source": [
    "sum(target == test_Y)/test_Y.shape[0]"
   ]
  },
  {
   "cell_type": "markdown",
   "metadata": {},
   "source": [
    "So the accuracy of the prediction is about 0.78049 for my model, which is not bad. "
   ]
  },
  {
   "cell_type": "markdown",
   "metadata": {},
   "source": [
    "## ROC Curve for Decision Tree"
   ]
  },
  {
   "cell_type": "markdown",
   "metadata": {},
   "source": [
    "In this part, we want to use ROC curve to test whether our classification is good or not"
   ]
  },
  {
   "cell_type": "code",
   "execution_count": 16,
   "metadata": {},
   "outputs": [],
   "source": [
    "target_prob = classifier.predict_proba(test_X)"
   ]
  },
  {
   "cell_type": "code",
   "execution_count": 17,
   "metadata": {},
   "outputs": [],
   "source": [
    "from sklearn.metrics import roc_curve, auc"
   ]
  },
  {
   "cell_type": "code",
   "execution_count": 18,
   "metadata": {},
   "outputs": [],
   "source": [
    "lb = preprocessing.LabelBinarizer()\n",
    "y_test = lb.fit_transform(test_Y) # transform true and false to 0 and 1"
   ]
  },
  {
   "cell_type": "code",
   "execution_count": 19,
   "metadata": {},
   "outputs": [],
   "source": [
    "fpr, tpr, _= roc_curve(y_test, target_prob[:,1])"
   ]
  },
  {
   "cell_type": "code",
   "execution_count": 20,
   "metadata": {},
   "outputs": [],
   "source": [
    "roc_auc = auc(fpr, tpr)"
   ]
  },
  {
   "cell_type": "code",
   "execution_count": 21,
   "metadata": {},
   "outputs": [
    {
     "data": {
      "image/png": "[encoded data removed]",
      "text/plain": [
       "<matplotlib.figure.Figure at 0x1a14386780>"
      ]
     },
     "metadata": {},
     "output_type": "display_data"
    }
   ],
   "source": [
    "plt.figure()\n",
    "lw = 2\n",
    "plt.plot(fpr, tpr, color='darkorange',\n",
    "         lw=lw, label='ROC curve (area = %0.2f)' % roc_auc)\n",
    "plt.plot([0, 1], [0, 1], color='navy', lw=lw,linestyle='--')\n",
    "plt.xlim([0.0, 1.0])\n",
    "plt.ylim([0.0, 1.05])\n",
    "plt.xlabel('False Positive Rate')\n",
    "plt.ylabel('True Positive Rate')\n",
    "plt.title('ROC Curve for Decision Tree on ')\n",
    "plt.legend(loc=\"lower right\")\n",
    "plt.show()"
   ]
  },
  {
   "cell_type": "markdown",
   "metadata": {},
   "source": [
    "We can see the ROC curve is enclosed with area 0.74 and we can see the ROC curve departed from the diagonal line and it is more closed to the left upper part. The ROC curve shows that our classification is not bad. "
   ]
  },
  {
   "cell_type": "markdown",
   "metadata": {},
   "source": [
    "## Part 1 Answer:\n",
    "1. The probability for a Naive Model to Guess 'THEFT' is about 0.24; the accuracy of the prediction from my model is about 0.78049, which is not bad.\n",
    "\n",
    "2. I use ROC curve to evaluate the performance of my model. From the plot we can see the curve is closed to the left corner of the plot and the area under the ROC curve is 0.74, which indicates that my classification based on decision tree is not bad.\n",
    "\n",
    "3. I choose random forest for my classification since it performs relatively well in classification with large data sets with amount of parameters.\n",
    "\n",
    "4. If I have more time I will do more feature engineering on other parameters like latitude and longitude or calculating the frequency of a theft case happens in certain street or community\n",
    "\n",
    "5. If I have more time I will do the second part"
   ]
  }
 ],
 "metadata": {
  "kernelspec": {
   "display_name": "Python 3",
   "language": "python",
   "name": "python3"
  },
  "language_info": {
   "codemirror_mode": {
    "name": "ipython",
    "version": 3
   },
   "file_extension": ".py",
   "mimetype": "text/x-python",
   "name": "python",
   "nbconvert_exporter": "python",
   "pygments_lexer": "ipython3",
   "version": "3.6.4"
  }
 },
 "nbformat": 4,
 "nbformat_minor": 2
}
